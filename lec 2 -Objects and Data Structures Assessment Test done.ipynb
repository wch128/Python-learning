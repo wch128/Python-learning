{
  "metadata": {
    "anaconda-cloud": {},
    "kernelspec": {
      "name": "python",
      "display_name": "Python (Pyodide)",
      "language": "python"
    },
    "language_info": {
      "codemirror_mode": {
        "name": "ipython",
        "version": 3
      },
      "file_extension": ".py",
      "mimetype": "text/x-python",
      "name": "python",
      "nbconvert_exporter": "python",
      "pygments_lexer": "ipython3",
      "version": "3.6.6"
    }
  },
  "nbformat_minor": 4,
  "nbformat": 4,
  "cells": [
    {
      "cell_type": "markdown",
      "source": "___\n\n<a href='https://www.udemy.com/user/joseportilla/'><img src='../Pierian_Data_Logo.png'/></a>\n___\n<center><em>Content Copyright by Pierian Data</em></center>\n# Objects and Data Structures Assessment Test",
      "metadata": {}
    },
    {
      "cell_type": "markdown",
      "source": "## Test your knowledge. \n\n** Answer the following questions **",
      "metadata": {}
    },
    {
      "cell_type": "markdown",
      "source": "Write (or just say out loud to yourself) a brief description of all the following Object Types and Data Structures we've learned about. You can edit the cell below by double clicking on it. Really this is just to test if you know the difference between these, so feel free to just think about it, since your answers are self-graded.",
      "metadata": {}
    },
    {
      "cell_type": "markdown",
      "source": "Double Click HERE to edit this markdown cell and write answers.\n\nNumbers:\nThat store numerical info like int,float decimals\nStrings:\ncharaters\nLists:\nbloksof objects like strings int etc\nTuples:\nimmutable objects\nDictionaries:\ndata with key value\n",
      "metadata": {}
    },
    {
      "cell_type": "markdown",
      "source": "## Numbers\n\nWrite an equation that uses multiplication, division, an exponent, addition, and subtraction that is equal to 100.25.\n\nHint: This is just to test your memory of the basic arithmetic commands, work backwards from 100.25",
      "metadata": {}
    },
    {
      "cell_type": "code",
      "source": "(50 + 25) * 2 - 0.5^2 = 100.25",
      "metadata": {
        "collapsed": true,
        "jupyter": {
          "outputs_hidden": true
        }
      },
      "execution_count": null,
      "outputs": []
    },
    {
      "cell_type": "markdown",
      "source": "Answer these 3 questions without typing code. Then type code to check your answer.\n\n    What is the value of the expression 4 * (6 + 5) = 44\n    \n    What is the value of the expression 4 * 6 + 5 = 29\n    \n    What is the value of the expression 4 + 6 * 5 = 34",
      "metadata": {}
    },
    {
      "cell_type": "code",
      "source": "",
      "metadata": {
        "collapsed": true,
        "jupyter": {
          "outputs_hidden": true
        }
      },
      "execution_count": null,
      "outputs": []
    },
    {
      "cell_type": "markdown",
      "source": "What is the *type* of the result of the expression 3 + 1.5 + 4?<br><br> Float",
      "metadata": {}
    },
    {
      "cell_type": "markdown",
      "source": "What would you use to find a number’s square root, as well as its square? ",
      "metadata": {}
    },
    {
      "cell_type": "code",
      "source": "# Square root:\n9 ** 0.3=2.09",
      "metadata": {},
      "execution_count": null,
      "outputs": []
    },
    {
      "cell_type": "code",
      "source": "# Square:\n4 ** 2 =16",
      "metadata": {},
      "execution_count": null,
      "outputs": []
    },
    {
      "cell_type": "markdown",
      "source": "## Strings",
      "metadata": {}
    },
    {
      "cell_type": "markdown",
      "source": "Given the string 'hello' give an index command that returns 'e'. Enter your code in the cell below:",
      "metadata": {}
    },
    {
      "cell_type": "code",
      "source": "s = 'hello'\n# Print out 'e' using indexing\n\ns[1]",
      "metadata": {},
      "execution_count": null,
      "outputs": []
    },
    {
      "cell_type": "markdown",
      "source": "Reverse the string 'hello' using slicing:",
      "metadata": {}
    },
    {
      "cell_type": "code",
      "source": "s ='hello'\n# Reverse the string using slicing\ns[::-1]\n",
      "metadata": {},
      "execution_count": null,
      "outputs": []
    },
    {
      "cell_type": "markdown",
      "source": "Given the string hello, give two methods of producing the letter 'o' using indexing.",
      "metadata": {}
    },
    {
      "cell_type": "code",
      "source": "s ='hello'\n# Print out the 'o'\n\n# Method 1:\ns[4]",
      "metadata": {},
      "execution_count": null,
      "outputs": []
    },
    {
      "cell_type": "code",
      "source": "# Method 2:\ns[-1]",
      "metadata": {},
      "execution_count": null,
      "outputs": []
    },
    {
      "cell_type": "markdown",
      "source": "## Lists",
      "metadata": {}
    },
    {
      "cell_type": "markdown",
      "source": "Build this list [0,0,0] two separate ways.",
      "metadata": {}
    },
    {
      "cell_type": "code",
      "source": "# Method 1:\nlist(0 for i in range(3))",
      "metadata": {},
      "execution_count": null,
      "outputs": []
    },
    {
      "cell_type": "code",
      "source": "# Method 2:\n[0]*3",
      "metadata": {},
      "execution_count": null,
      "outputs": []
    },
    {
      "cell_type": "markdown",
      "source": "Reassign 'hello' in this nested list to say 'goodbye' instead:",
      "metadata": {}
    },
    {
      "cell_type": "code",
      "source": "list3 = [1,2,[3,4,'hello']]\n\nlist3 = [1,2,[3,4,'hello']]\nlist3[-1][-1] = 'goodbye'\nprint(list3)\n\noutput after changing =[1, 2, [3, 4, 'goodbye']]\n",
      "metadata": {},
      "execution_count": null,
      "outputs": []
    },
    {
      "cell_type": "markdown",
      "source": "Sort the list below:",
      "metadata": {}
    },
    {
      "cell_type": "code",
      "source": "list4 = [5,3,4,6,1]\n\nlist4 = [5,3,4,6,1]\nlist4.sort()\nprint(list4)\n",
      "metadata": {},
      "execution_count": null,
      "outputs": []
    },
    {
      "cell_type": "markdown",
      "source": "## Dictionaries",
      "metadata": {}
    },
    {
      "cell_type": "markdown",
      "source": "Using keys and indexing, grab the 'hello' from the following dictionaries:",
      "metadata": {}
    },
    {
      "cell_type": "code",
      "source": "d = {'simple_key':'hello'}\n# Grab 'hello'\nd['simple_key']",
      "metadata": {},
      "execution_count": null,
      "outputs": []
    },
    {
      "cell_type": "code",
      "source": "d = {'k1':{'k2':'hello'}}\n# Grab 'hello'\nd['k1']['k2']",
      "metadata": {},
      "execution_count": null,
      "outputs": []
    },
    {
      "cell_type": "code",
      "source": "# Getting a little tricker\nd = {'k1':[{'nest_key':['this is deep',['hello']]}]}\n\n#Grab hello\nd['k1'][0]['nest_key'][1][0]",
      "metadata": {},
      "execution_count": null,
      "outputs": []
    },
    {
      "cell_type": "code",
      "source": "# This will be hard and annoying!\nd = {'k1':[1,2,{'k2':['this is tricky',{'tough':[1,2,['hello']]}]}]}\n\nd['k1'][2]['k2'][1]['tough'][2][0]\n\n",
      "metadata": {},
      "execution_count": null,
      "outputs": []
    },
    {
      "cell_type": "markdown",
      "source": "Can you sort a dictionary? Why or why not?<br><br>\n\ncannot be sorted, but their contents can be sorted by converting them to a list and then sorting that list.\n",
      "metadata": {}
    },
    {
      "cell_type": "markdown",
      "source": "## Tuples",
      "metadata": {}
    },
    {
      "cell_type": "markdown",
      "source": "What is the major difference between tuples and lists?<br><br>\n\ntuples are immutable, while lists are mutable.",
      "metadata": {}
    },
    {
      "cell_type": "markdown",
      "source": "How do you create a tuple?<br><br>\n\nmy_tuple = (1, 2, 3)",
      "metadata": {}
    },
    {
      "cell_type": "markdown",
      "source": "## Sets ",
      "metadata": {}
    },
    {
      "cell_type": "markdown",
      "source": "What is unique about a set?<br><br>\n\nthere are no duplicate values in a set",
      "metadata": {}
    },
    {
      "cell_type": "markdown",
      "source": "Use a set to find the unique values of the list below:",
      "metadata": {}
    },
    {
      "cell_type": "code",
      "source": "list5 = [1,2,2,33,4,4,11,22,3,3,2]\n\n\nlist5 = [1,2,2,33,4,4,11,22,3,3,2]\nunique_values = set(list5)\nprint(unique_values)",
      "metadata": {},
      "execution_count": null,
      "outputs": []
    },
    {
      "cell_type": "markdown",
      "source": "## Booleans",
      "metadata": {}
    },
    {
      "cell_type": "markdown",
      "source": "For the following quiz questions, we will get a preview of comparison operators. In the table below, a=3 and b=4.\n\n<table class=\"table table-bordered\">\n<tr>\n<th style=\"width:10%\">Operator</th><th style=\"width:45%\">Description</th><th>Example</th>\n</tr>\n<tr>\n<td>==</td>\n<td>If the values of two operands are equal, then the condition becomes true.</td>\n<td> (a == b) is not true.</td>\n</tr>\n<tr>\n<td>!=</td>\n<td>If values of two operands are not equal, then condition becomes true.</td>\n<td> (a != b) is true.</td>\n</tr>\n<tr>\n<td>&gt;</td>\n<td>If the value of left operand is greater than the value of right operand, then condition becomes true.</td>\n<td> (a &gt; b) is not true.</td>\n</tr>\n<tr>\n<td>&lt;</td>\n<td>If the value of left operand is less than the value of right operand, then condition becomes true.</td>\n<td> (a &lt; b) is true.</td>\n</tr>\n<tr>\n<td>&gt;=</td>\n<td>If the value of left operand is greater than or equal to the value of right operand, then condition becomes true.</td>\n<td> (a &gt;= b) is not true. </td>\n</tr>\n<tr>\n<td>&lt;=</td>\n<td>If the value of left operand is less than or equal to the value of right operand, then condition becomes true.</td>\n<td> (a &lt;= b) is true. </td>\n</tr>\n</table>",
      "metadata": {}
    },
    {
      "cell_type": "markdown",
      "source": "What will be the resulting Boolean of the following pieces of code (answer fist then check by typing it in!)",
      "metadata": {}
    },
    {
      "cell_type": "code",
      "source": "# Answer before running cell\n2 > 3 \n\nFalse",
      "metadata": {},
      "execution_count": null,
      "outputs": []
    },
    {
      "cell_type": "code",
      "source": "# Answer before running cell\n3 <= 2\n\nFalse",
      "metadata": {},
      "execution_count": null,
      "outputs": []
    },
    {
      "cell_type": "code",
      "source": "# Answer before running cell\n3 == 2.0\n\nFalse",
      "metadata": {
        "collapsed": true,
        "jupyter": {
          "outputs_hidden": true
        }
      },
      "execution_count": null,
      "outputs": []
    },
    {
      "cell_type": "code",
      "source": "# Answer before running cell\n3.0 == 3\n\nTrue",
      "metadata": {},
      "execution_count": null,
      "outputs": []
    },
    {
      "cell_type": "code",
      "source": "# Answer before running cell\n4**0.5 != 2\n\nFalse",
      "metadata": {},
      "execution_count": null,
      "outputs": []
    },
    {
      "cell_type": "markdown",
      "source": "Final Question: What is the boolean output of the cell block below?",
      "metadata": {}
    },
    {
      "cell_type": "code",
      "source": "# two nested lists\nl_one = [1,2,[3,4]]\nl_two = [1,2,{'k1':4}]\n\n# True or False?\nl_one[2][0] >= l_two[2]['k1']\n\nFalse",
      "metadata": {},
      "execution_count": null,
      "outputs": []
    },
    {
      "cell_type": "markdown",
      "source": "## Great Job on your first assessment! ",
      "metadata": {
        "jp-MarkdownHeadingCollapsed": true
      }
    }
  ]
}