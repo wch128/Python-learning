{
  "metadata": {
    "kernelspec": {
      "name": "python",
      "display_name": "Python (Pyodide)",
      "language": "python"
    },
    "language_info": {
      "codemirror_mode": {
        "name": "ipython",
        "version": 3
      },
      "file_extension": ".py",
      "mimetype": "text/x-python",
      "name": "python",
      "nbconvert_exporter": "python",
      "pygments_lexer": "ipython3",
      "version": "3.6.6"
    }
  },
  "nbformat_minor": 4,
  "nbformat": 4,
  "cells": [
    {
      "cell_type": "markdown",
      "source": "___\n\n<a href='https://www.udemy.com/user/joseportilla/'><img src='../Pierian_Data_Logo.png'/></a>\n___\n<center><em>Content Copyright by Pierian Data</em></center>",
      "metadata": {}
    },
    {
      "cell_type": "markdown",
      "source": "# Functions and Methods Homework \n\nComplete the following questions:\n____\n**Write a function that computes the volume of a sphere given its radius.**\n<p>The volume of a sphere is given as $$\\frac{4}{3} πr^3$$</p>",
      "metadata": {}
    },
    {
      "cell_type": "code",
      "source": "def vol(radius):\n    pi = 3.14159 # you can also use math.pi for more accurate value of pi\n    volume = (4/3) * pi * (radius ** 3)\n    return volume\nprint(vol(5))",
      "metadata": {},
      "execution_count": 1,
      "outputs": []
    },
    {
      "cell_type": "code",
      "source": "# Check\nvol(2)\n\ndef vol(radius):\n    pi = 3.14159 # you can also use math.pi for more accurate value of pi\n    volume = (4/3) * pi * (radius ** 3)\n    return volume\nprint(vol(2))",
      "metadata": {},
      "execution_count": 2,
      "outputs": [
        {
          "execution_count": 2,
          "output_type": "execute_result",
          "data": {
            "text/plain": [
              "33.49333333333333"
            ]
          },
          "metadata": {}
        }
      ]
    },
    {
      "cell_type": "markdown",
      "source": "___\n**Write a function that checks whether a number is in a given range (inclusive of high and low)**",
      "metadata": {}
    },
    {
      "cell_type": "code",
      "source": "def ran_check(num,low,high):\n    pass\n\ndef ran_check(num, low, high):\n    return num >= low and num <= high\nprint(ran_check(5, 0, 10)) # outputs: True\nprint(ran_check(15, 0, 10)) # outputs: False",
      "metadata": {},
      "execution_count": 3,
      "outputs": []
    },
    {
      "cell_type": "code",
      "source": "# Check\nran_check(5,2,7)\n\ndef ran_check(num, low, high):\n    return num >= low and num <= high\nprint(ran_check(5,2,7)) \n\nTrue  #Outputs",
      "metadata": {},
      "execution_count": 4,
      "outputs": [
        {
          "name": "stdout",
          "output_type": "stream",
          "text": "5 is in the range between 2 and 7\n"
        }
      ]
    },
    {
      "cell_type": "markdown",
      "source": "If you only wanted to return a boolean:",
      "metadata": {}
    },
    {
      "cell_type": "code",
      "source": "def ran_bool(num,low,high):\n    pass\n\ndef ran_bool(num, low, high):\n    return low <= num <= high\nprint(ran_bool(3,1,10))",
      "metadata": {},
      "execution_count": 5,
      "outputs": []
    },
    {
      "cell_type": "code",
      "source": "ran_bool(3,1,10) #true: Output",
      "metadata": {},
      "execution_count": 6,
      "outputs": [
        {
          "execution_count": 6,
          "output_type": "execute_result",
          "data": {
            "text/plain": [
              "True"
            ]
          },
          "metadata": {}
        }
      ]
    },
    {
      "cell_type": "markdown",
      "source": "____\n**Write a Python function that accepts a string and calculates the number of upper case letters and lower case letters.**\n\n    Sample String : 'Hello Mr. Rogers, how are you this fine Tuesday?'\n    Expected Output : \n    No. of Upper case characters : 4\n    No. of Lower case Characters : 33\n\nHINT: Two string methods that might prove useful: **.isupper()** and **.islower()**\n\nIf you feel ambitious, explore the Collections module to solve this problem!",
      "metadata": {}
    },
    {
      "cell_type": "code",
      "source": "def count_case(string):\n    uppercase_count = 0\n    lowercase_count = 0\n    for char in string:\n        if char.isupper():\n            uppercase_count += 1\n        elif char.islower():\n            lowercase_count += 1\n    print(f'No. of Upper case characters: {uppercase_count}')\n    print(f'No. of Lower case characters: {lowercase_count}')\nprint(count_case('Hello Mr. Rogers, how are you this fine Tuesday?'))",
      "metadata": {},
      "execution_count": 7,
      "outputs": []
    },
    {
      "cell_type": "code",
      "source": "string = 'Hello Mr. Rogers, how are you this fine Tuesday?'\nup_low(s)",
      "metadata": {},
      "execution_count": 8,
      "outputs": [
        {
          "name": "stdout",
          "output_type": "stream",
          "text": "Original String :  Hello Mr. Rogers, how are you this fine Tuesday?\n\nNo. of Upper case characters :  4\n\nNo. of Lower case Characters :  33\n"
        }
      ]
    },
    {
      "cell_type": "markdown",
      "source": "____\n**Write a Python function that takes a list and returns a new list with unique elements of the first list.**\n\n    Sample List : [1,1,1,1,2,2,3,3,3,3,4,5]\n    Unique List : [1, 2, 3, 4, 5]",
      "metadata": {}
    },
    {
      "cell_type": "code",
      "source": "def get_unique_list(input_list):\n    return list(set(input_list))\ninput_list = [1, 1, 1, 1, 2, 2, 3, 3, 3, 3, 4, 5]\nunique_list = get_unique_list(input_list)\nprint(unique_list)",
      "metadata": {},
      "execution_count": 9,
      "outputs": []
    },
    {
      "cell_type": "code",
      "source": "unique_list([1,1,1,1,2,2,3,3,3,3,4,5])",
      "metadata": {},
      "execution_count": 10,
      "outputs": [
        {
          "execution_count": 10,
          "output_type": "execute_result",
          "data": {
            "text/plain": [
              "[1, 2, 3, 4, 5]"
            ]
          },
          "metadata": {}
        }
      ]
    },
    {
      "cell_type": "markdown",
      "source": "____\n**Write a Python function to multiply all the numbers in a list.**\n\n    Sample List : [1, 2, 3, -4]\n    Expected Output : -24",
      "metadata": {}
    },
    {
      "cell_type": "code",
      "source": "def multiply_list_numbers(input_list):\n    result = 1\n    for num in input_list:\n        result *= num\n    return result\ninput_list = [1, 2, 3, -4]\nresult = multiply_list_numbers(input_list)\nprint(result)",
      "metadata": {},
      "execution_count": 11,
      "outputs": []
    },
    {
      "cell_type": "code",
      "source": "multiply([1,2,3,-4])",
      "metadata": {},
      "execution_count": 12,
      "outputs": [
        {
          "execution_count": 12,
          "output_type": "execute_result",
          "data": {
            "text/plain": [
              "-24"
            ]
          },
          "metadata": {}
        }
      ]
    },
    {
      "cell_type": "markdown",
      "source": "____\n**Write a Python function that checks whether a word or phrase is palindrome or not.**\n\nNote: A palindrome is word, phrase, or sequence that reads the same backward as forward, e.g., madam,kayak,racecar, or a phrase \"nurses run\". Hint: You may want to check out the .replace() method in a string to help out with dealing with spaces. Also google search how to reverse a string in Python, there are some clever ways to do it with slicing notation.",
      "metadata": {}
    },
    {
      "cell_type": "code",
      "source": "\ndef is_palindrome(string):\n    # Convert the string to lowercase and remove spaces\n    string = string.lower().replace(\" \", \"\")\n    \n    # Reverse the string and compare it to the original string\n    return string == string[::-1]\nprint(is_palindrome(\"racecar\")) \nprint(is_palindrome(\"helleh\"))",
      "metadata": {},
      "execution_count": 13,
      "outputs": []
    },
    {
      "cell_type": "code",
      "source": "is_palindrome('helleh')",
      "metadata": {},
      "execution_count": 14,
      "outputs": [
        {
          "execution_count": 14,
          "output_type": "execute_result",
          "data": {
            "text/plain": [
              "True"
            ]
          },
          "metadata": {}
        }
      ]
    },
    {
      "cell_type": "markdown",
      "source": "____\n#### Hard:\n\n**Write a Python function to check whether a string is pangram or not. (Assume the string passed in does not have any punctuation)**\n\n    Note : Pangrams are words or sentences containing every letter of the alphabet at least once.\n    For example : \"The quick brown fox jumps over the lazy dog\"\n\nHint: You may want to use .replace() method to get rid of spaces.\n\nHint: Look at the [string module](https://stackoverflow.com/questions/16060899/alphabet-range-in-python)\n\nHint: In case you want to use [set comparisons](https://medium.com/better-programming/a-visual-guide-to-set-comparisons-in-python-6ab7edb9ec41)",
      "metadata": {}
    },
    {
      "cell_type": "code",
      "source": "import string\n\ndef ispangram(str1, alphabet=string.ascii_lowercase):\n    pass\n\n# Use this fuction too but also i do with some other method too \n\n\nimport string\n \ndef is_pangram(str):\n    unique_char = \"abcdefghijklmnopqrstuvwxyz\"\n    for char in unique_char:\n        print(char)\n        if char not in str.lower():\n            return False\n        else:\n            return True\n    if(is_pangram(string) == True):\n        return True\n    else:\n        return False\nprint(is_pangram(\"4563456The quick brown fox jumps over the lazy dog\"))\nprint(is_pangram(\"hello\"))",
      "metadata": {},
      "execution_count": 15,
      "outputs": []
    },
    {
      "cell_type": "code",
      "source": "ispangram(\"The quick brown fox jumps over the lazy dog\")",
      "metadata": {},
      "execution_count": 16,
      "outputs": [
        {
          "execution_count": 16,
          "output_type": "execute_result",
          "data": {
            "text/plain": [
              "True"
            ]
          },
          "metadata": {}
        }
      ]
    },
    {
      "cell_type": "code",
      "source": "string.ascii_lowercase",
      "metadata": {},
      "execution_count": 17,
      "outputs": [
        {
          "execution_count": 17,
          "output_type": "execute_result",
          "data": {
            "text/plain": [
              "'abcdefghijklmnopqrstuvwxyz'"
            ]
          },
          "metadata": {}
        }
      ]
    },
    {
      "cell_type": "markdown",
      "source": "#### Great Job!",
      "metadata": {}
    }
  ]
}