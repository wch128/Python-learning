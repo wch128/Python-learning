{
  "metadata": {
    "kernelspec": {
      "name": "python",
      "display_name": "Python (Pyodide)",
      "language": "python"
    },
    "language_info": {
      "codemirror_mode": {
        "name": "python",
        "version": 3
      },
      "file_extension": ".py",
      "mimetype": "text/x-python",
      "name": "python",
      "nbconvert_exporter": "python",
      "pygments_lexer": "ipython3",
      "version": "3.8"
    }
  },
  "nbformat_minor": 4,
  "nbformat": 4,
  "cells": [
    {
      "cell_type": "markdown",
      "source": "___\n\n<a href='https://www.udemy.com/user/joseportilla/'><img src='../Pierian_Data_Logo.png'/></a>\n___\n<center><em>Content Copyright by Pierian Data</em></center>",
      "metadata": {}
    },
    {
      "cell_type": "markdown",
      "source": "# Statements Assessment Test\nLet's test your knowledge!",
      "metadata": {}
    },
    {
      "cell_type": "markdown",
      "source": "_____\n**Use <code>for</code>, .split(), and <code>if</code> to create a Statement that will print out words that start with 's':**",
      "metadata": {}
    },
    {
      "cell_type": "code",
      "source": "st = 'Print only the words that start with s in this sentence'",
      "metadata": {
        "collapsed": true,
        "jupyter": {
          "outputs_hidden": true
        }
      },
      "execution_count": null,
      "outputs": []
    },
    {
      "cell_type": "code",
      "source": "#Code here\nfor word in st.split():\n    if word[0] == 's':\n        print(word)",
      "metadata": {
        "tags": []
      },
      "execution_count": null,
      "outputs": []
    },
    {
      "cell_type": "markdown",
      "source": "______\n**Use range() to print all the even numbers from 0 to 10.**",
      "metadata": {}
    },
    {
      "cell_type": "code",
      "source": "#Code Here\n[0, 2, 4, 6, 8, 10]",
      "metadata": {
        "tags": []
      },
      "execution_count": null,
      "outputs": []
    },
    {
      "cell_type": "markdown",
      "source": "___\n**Use a List Comprehension to create a list of all numbers between 1 and 50 that are divisible by 3.**",
      "metadata": {}
    },
    {
      "cell_type": "code",
      "source": "#Code in this cell\n[x for x in range(1,51) if x%3 == 0]",
      "metadata": {
        "collapsed": true,
        "jupyter": {
          "outputs_hidden": true
        }
      },
      "execution_count": null,
      "outputs": []
    },
    {
      "cell_type": "markdown",
      "source": "_____\n**Go through the string below and if the length of a word is even print \"even!\"**",
      "metadata": {}
    },
    {
      "cell_type": "code",
      "source": "st = 'Print every word in this sentence that has an even number of letters'",
      "metadata": {
        "tags": []
      },
      "execution_count": null,
      "outputs": []
    },
    {
      "cell_type": "code",
      "source": "#Code in this cell\nst = 'Print every word in this sentence that has an even number of letters'\nt=st.split()\nprint (t)\nfor word in t:\n    if len(word)%2==0:\n        print(word)",
      "metadata": {
        "tags": []
      },
      "execution_count": null,
      "outputs": []
    },
    {
      "cell_type": "markdown",
      "source": "____\n**Write a program that prints the integers from 1 to 100. But for multiples of three print \"Fizz\" instead of the number, and for the multiples of five print \"Buzz\". For numbers which are multiples of both three and five print \"FizzBuzz\".**",
      "metadata": {}
    },
    {
      "cell_type": "code",
      "source": "#Code in this cell\nfor num in range(1,101):\n    if num%3==0:\n        print(\"fizz\")\n    if num%5==0:\n        print(\"buzz\")\n    if num%3==0 and num%5==0:\n        print(\"fizzbuss\")\n    else:\n        print(num)",
      "metadata": {
        "tags": []
      },
      "execution_count": null,
      "outputs": []
    },
    {
      "cell_type": "markdown",
      "source": "____\n**Use List Comprehension to create a list of the first letters of every word in the string below:**",
      "metadata": {}
    },
    {
      "cell_type": "code",
      "source": "st = 'Create a list of the first letters of every word in this string'",
      "metadata": {
        "collapsed": true,
        "jupyter": {
          "outputs_hidden": true
        }
      },
      "execution_count": null,
      "outputs": []
    },
    {
      "cell_type": "code",
      "source": "\nst = 'Create a list of the first letters of every word in this string'\nlisttest =[latter[0] for latter in st.split()]\nprint(listtest)#Code in this cell",
      "metadata": {
        "tags": []
      },
      "execution_count": null,
      "outputs": []
    },
    {
      "cell_type": "markdown",
      "source": "### Great Job!",
      "metadata": {}
    }
  ]
}